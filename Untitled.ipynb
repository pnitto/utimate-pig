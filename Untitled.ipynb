{
 "cells": [
  {
   "cell_type": "code",
   "execution_count": 4,
   "metadata": {
    "collapsed": false
   },
   "outputs": [
    {
     "name": "stdout",
     "output_type": "stream",
     "text": [
      "[5, 10, 15, 20, 25, 30, 35, 40, 45]\n"
     ]
    }
   ],
   "source": [
    "new_list = []\n",
    "existing_list = [1, 2, 3, 4, 5, 6, 7, 8, 9]\n",
    "for item in existing_list:\n",
    "    item *= 5\n",
    "    new_list.append(item)\n",
    "\n",
    "print(new_list)"
   ]
  },
  {
   "cell_type": "code",
   "execution_count": 78,
   "metadata": {
    "collapsed": false
   },
   "outputs": [
    {
     "name": "stdout",
     "output_type": "stream",
     "text": [
      "[-4, 35, 852, 929, 8025, 382, 69, 3870, 299]\n"
     ]
    }
   ],
   "source": [
    "newer_list = []\n",
    "the_list = [1,40, 857, 934, 8030, 387, 74, 3875, 304]\n",
    "for x in the_list:\n",
    "    x -= 5 \n",
    "    newer_list.append(x)\n",
    "print(newer_list)\n"
   ]
  },
  {
   "cell_type": "code",
   "execution_count": 5,
   "metadata": {
    "collapsed": false
   },
   "outputs": [
    {
     "name": "stdout",
     "output_type": "stream",
     "text": [
      "[5, 10, 15, 20, 25, 30, 35, 40, 45]\n"
     ]
    }
   ],
   "source": [
    "\n",
    "existing_list = [1, 2, 3, 4, 5, 6, 7, 8, 9]\n",
    "new_list = [item * 5 for item in existing_list]\n",
    "    \n",
    "print(new_list)"
   ]
  },
  {
   "cell_type": "code",
   "execution_count": 79,
   "metadata": {
    "collapsed": false
   },
   "outputs": [
    {
     "name": "stdout",
     "output_type": "stream",
     "text": [
      "[-20, -18, -16, -14, -12, -10, -8, -6, -4, -2]\n"
     ]
    }
   ],
   "source": [
    "two_list = [10,9,8,7,6,5,4,3,2,1]\n",
    "third_list = [x * -2 for x in two_list]\n",
    "print(third_list)"
   ]
  },
  {
   "cell_type": "code",
   "execution_count": 6,
   "metadata": {
    "collapsed": false
   },
   "outputs": [
    {
     "name": "stdout",
     "output_type": "stream",
     "text": [
      "[5, 10, 15, 20, 25, 30, 35, 40, 45]\n"
     ]
    }
   ],
   "source": [
    "def new_function(n):\n",
    "    return n * 5\n",
    "existing_list = [1, 2, 3, 4, 5, 6, 7, 8, 9]\n",
    "new_list = [new_function(item) for item in existing_list]\n",
    "print(new_list)"
   ]
  },
  {
   "cell_type": "code",
   "execution_count": 82,
   "metadata": {
    "collapsed": false
   },
   "outputs": [
    {
     "name": "stdout",
     "output_type": "stream",
     "text": [
      "[47, 21, 41, 390, 2836, 332, 213]\n"
     ]
    }
   ],
   "source": [
    "def one_function(n):\n",
    "    return n // 2 - 3\n",
    "old_list = [100, 48, 88, 786, 5678,670, 432]\n",
    "hello_list = [one_function(item) for item in old_list]\n",
    "print(hello_list)"
   ]
  },
  {
   "cell_type": "code",
   "execution_count": 7,
   "metadata": {
    "collapsed": true
   },
   "outputs": [],
   "source": [
    "import matplotlib.pyplot as plt"
   ]
  },
  {
   "cell_type": "code",
   "execution_count": 8,
   "metadata": {
    "collapsed": true
   },
   "outputs": [],
   "source": [
    "%matplotlib inline"
   ]
  },
  {
   "cell_type": "code",
   "execution_count": 10,
   "metadata": {
    "collapsed": false
   },
   "outputs": [
    {
     "data": {
      "image/png": "[encoded data removed]",
      "text/plain": [
       "<matplotlib.figure.Figure at 0x106c691d0>"
      ]
     },
     "metadata": {},
     "output_type": "display_data"
    }
   ],
   "source": [
    "plt.plot([1,10,1,5])\n",
    "plt.show()"
   ]
  },
  {
   "cell_type": "code",
   "execution_count": 13,
   "metadata": {
    "collapsed": false
   },
   "outputs": [
    {
     "data": {
      "image/png": "[encoded data removed]",
      "text/plain": [
       "<matplotlib.figure.Figure at 0x106eba1d0>"
      ]
     },
     "metadata": {},
     "output_type": "display_data"
    }
   ],
   "source": [
    "plt.hist([1,16,15, 3 , 3, 0, 0, 28], bins=12)\n",
    "plt.show()"
   ]
  },
  {
   "cell_type": "code",
   "execution_count": 14,
   "metadata": {
    "collapsed": true
   },
   "outputs": [],
   "source": [
    "import numpy as np\n"
   ]
  },
  {
   "cell_type": "code",
   "execution_count": 20,
   "metadata": {
    "collapsed": false
   },
   "outputs": [
    {
     "name": "stdout",
     "output_type": "stream",
     "text": [
      "[[21  4 26  7 18  5]\n",
      " [ 8  5  8 17  9 18]\n",
      " [17  3 21  9 23  4]\n",
      " [ 4 23 28 13  3  7]\n",
      " [27 13 25  5 27 12]]\n"
     ]
    }
   ],
   "source": [
    "new_matrix = np.random.randint(1, 30,(5,6))\n",
    "print(new_matrix)\n",
    "new_matrix = new_matrix.transpose()"
   ]
  },
  {
   "cell_type": "code",
   "execution_count": 21,
   "metadata": {
    "collapsed": false
   },
   "outputs": [
    {
     "data": {
      "image/png": "[encoded data removed]",
      "text/plain": [
       "<matplotlib.figure.Figure at 0x10713cd30>"
      ]
     },
     "metadata": {},
     "output_type": "display_data"
    }
   ],
   "source": [
    "plt.boxplot(new_matrix)\n",
    "plt.show()"
   ]
  },
  {
   "cell_type": "code",
   "execution_count": 17,
   "metadata": {
    "collapsed": false
   },
   "outputs": [
    {
     "name": "stdout",
     "output_type": "stream",
     "text": [
      "[[1, 2, 3, 4], [1, 5, 4, 3], [1, 2, 3, 4]]\n"
     ]
    }
   ],
   "source": [
    "list_one = [1,2,3,4]\n",
    "list_two = [1,5,4,3]\n",
    "list_three = [1,2,3,4]\n",
    "box_plot_list = [list_one,list_two, list_three]\n",
    "print(box_plot_list)\n"
   ]
  },
  {
   "cell_type": "code",
   "execution_count": null,
   "metadata": {
    "collapsed": true
   },
   "outputs": [],
   "source": []
  },
  {
   "cell_type": "code",
   "execution_count": 18,
   "metadata": {
    "collapsed": false
   },
   "outputs": [
    {
     "data": {
      "image/png": "[encoded data removed]",
      "text/plain": [
       "<matplotlib.figure.Figure at 0x106e47630>"
      ]
     },
     "metadata": {},
     "output_type": "display_data"
    }
   ],
   "source": [
    "plt.boxplot(box_plot_list)\n",
    "plt.show()"
   ]
  },
  {
   "cell_type": "code",
   "execution_count": 28,
   "metadata": {
    "collapsed": false
   },
   "outputs": [],
   "source": [
    "class BaseballGame:\n",
    "    \n",
    "    def __init__(self):\n",
    "        self.home_team = BaseballTeam(\"New York\", \"Yankees\")\n",
    "        self.away_team = BaseballTeam(\"Atlanta\", \"Braves\")\n",
    "    def __str__(self):\n",
    "        return \"{} at {}\".format(self.away_team, self.home_team)\n",
    "        \n",
    "    def pitch(self):\n",
    "        print(\"Fastball, Strike One\")\n",
    "\n",
    "class BaseballTeam:\n",
    "    \n",
    "    def __init__(self, city, name):\n",
    "        self.city = city\n",
    "        self.name = name\n",
    "    \n",
    "    def __str__(self):\n",
    "        return \"The {} {}'s\".format(self.city, self.name)\n",
    "    \n",
    "    \n",
    "#game = BaseballGame()\n",
    "#game.pitch()"
   ]
  },
  {
   "cell_type": "code",
   "execution_count": 30,
   "metadata": {
    "collapsed": false
   },
   "outputs": [
    {
     "name": "stdout",
     "output_type": "stream",
     "text": [
      "Fastball, Strike One\n"
     ]
    }
   ],
   "source": [
    "\n",
    "game = BaseballGame()\n",
    "game.pitch()"
   ]
  },
  {
   "cell_type": "code",
   "execution_count": 96,
   "metadata": {
    "collapsed": false
   },
   "outputs": [
    {
     "data": {
      "text/plain": [
       "' is away team'"
      ]
     },
     "execution_count": 96,
     "metadata": {},
     "output_type": "execute_result"
    }
   ],
   "source": [
    "import random\n",
    "\n",
    "class BaseballGame:\n",
    "    \n",
    "    def __init__(self, home_team=\"\", away_team=\"\"):\n",
    "        self.home_team = home_team\n",
    "        self.away_team = away_team\n",
    "        \n",
    "    def __str__(self):\n",
    "        return\"{} at {}\".format(self.away_team, self.home_team)\n",
    "    \n",
    "    def flip_for_home_team(self):\n",
    "        self.flip = random.randint(0,1)\n",
    "        if self.flip == 0:\n",
    "            return \"{} is home team\".format(self.home_team)\n",
    "        else:\n",
    "            return\"{} is away team\".format(self.away_team)\n",
    "    \n",
    "    def strike_or_ball(self):\n",
    "        self.strike_or_ball = random.randint(0,1)\n",
    "        if self.strike_or_ball == 0:\n",
    "            return \"Strike!\"\n",
    "        else:\n",
    "            return \"Ball\"\n",
    "        \n",
    "class BaseballTeam:\n",
    "    \n",
    "    def __init__(self, city, name):\n",
    "        self.city = city\n",
    "        self.name = team\n",
    "        \n",
    "    def __str__(self):\n",
    "        return\"{} {}\".format(self.city, self.name)\n",
    "\n",
    "\n",
    "    \n",
    "home_team = BaseballGame(\"Braves\")\n",
    "away_team = BaseballGame(\"Pirates\")\n",
    "home_team.flip_for_home_team()\n",
    "away_team.flip_for_home_team()\n",
    "\n",
    "\n",
    "\n",
    "#home_team = BaseballGame(\"Yankees\")\n",
    "#away_team = BaseballGame(\"Red Sox\")\n",
    "#print(home_team, away_team)\n",
    "#home_team.strike_or_ball()\n",
    "#away_team.strike_or_ball()\n",
    "\n",
    "\n",
    "#home_team = \"Yankees\"\n",
    "\n"
   ]
  },
  {
   "cell_type": "code",
   "execution_count": 4,
   "metadata": {
    "collapsed": false
   },
   "outputs": [
    {
     "name": "stdout",
     "output_type": "stream",
     "text": [
      "<__main__.BowlingLane object at 0x106a87a90>\n",
      "None\n"
     ]
    }
   ],
   "source": [
    "import numpy as np\n",
    "\n",
    "class Player:\n",
    "    \n",
    "    def __init__(self, player_name=\"\",handedness=\"\"):\n",
    "        self.player_name = name\n",
    "        self.handedness = handedness\n",
    "    \n",
    "    \n",
    "class BowlingLane:\n",
    "    \n",
    "    def __init__(self, lane, pins=10):\n",
    "        self.pins = pins\n",
    "        self.lane = lane\n",
    "        \n",
    "    def bowling_lane(self,lane):\n",
    "        self.lane = np.array([1,2,3,4,5,6,7,8,9,10])\n",
    "       \n",
    "        \n",
    "class BowlingGame:\n",
    "    pass\n",
    "\n",
    "pins = BowlingLane(1)\n",
    "pins.bowling_lane(1)\n",
    "    \n",
    "    "
   ]
  },
  {
   "cell_type": "code",
   "execution_count": null,
   "metadata": {
    "collapsed": true
   },
   "outputs": [],
   "source": []
  }
 ],
 "metadata": {
  "kernelspec": {
   "display_name": "Python 3",
   "language": "python",
   "name": "python3"
  },
  "language_info": {
   "codemirror_mode": {
    "name": "ipython",
    "version": 3
   },
   "file_extension": ".py",
   "mimetype": "text/x-python",
   "name": "python",
   "nbconvert_exporter": "python",
   "pygments_lexer": "ipython3",
   "version": "3.4.3"
  }
 },
 "nbformat": 4,
 "nbformat_minor": 0
}
